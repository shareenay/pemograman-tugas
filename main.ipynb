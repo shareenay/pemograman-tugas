{
 "cells": [
  {
   "cell_type": "markdown",
   "id": "2551fc6d",
   "metadata": {},
   "source": [
    "## Mengubah Tipe Data"
   ]
  },
  {
   "cell_type": "code",
   "execution_count": 4,
   "id": "fc73bb02",
   "metadata": {},
   "outputs": [
    {
     "name": "stdout",
     "output_type": "stream",
     "text": [
      "NO NAMA MAKANAN FAVORITE\n",
      "1 JIJI NASI GORENG \n",
      "2 SHEI SEBLAK \n",
      "3 AEL NASI GILA \n",
      "4 WINA NASI PADANG \n",
      "5 IPUT PANCONG\n"
     ]
    }
   ],
   "source": [
    "print(\"NO NAMA MAKANAN FAVORITE\")\n",
    "print(\"1 JIJI NASI GORENG \\n2 SHEI SEBLAK \\n3 AEL NASI GILA \\n4 WINA NASI PADANG \\n5 IPUT PANCONG\")"
   ]
  },
  {
   "cell_type": "markdown",
   "id": "e682a5ae",
   "metadata": {},
   "source": [
    "## Tampilan Data"
   ]
  },
  {
   "cell_type": "code",
   "execution_count": 3,
   "id": "405b9de9",
   "metadata": {},
   "outputs": [
    {
     "name": "stdout",
     "output_type": "stream",
     "text": [
      "\n",
      "=== DATA DIRI SISWA ===\n",
      "Nama  : naura\n",
      "Umur  : 17 tahun\n",
      "Kelas : 2\n"
     ]
    }
   ],
   "source": [
    "nama = input(\"Masukkan nama kamu: \")\n",
    "umur = int(input(\"Masukkan umur kamu: \"))\n",
    "kelas = input(\"Masukkan kelas kamu: \")\n",
    "\n",
    "print(\"\\n=== DATA DIRI SISWA ===\")\n",
    "print(\"Nama  :\", nama)\n",
    "print(\"Umur  :\", umur, \"tahun\")\n",
    "print(\"Kelas :\", kelas)"
   ]
  },
  {
   "cell_type": "markdown",
   "id": "1214f7ba",
   "metadata": {},
   "source": [
    "## Operator Matematika"
   ]
  },
  {
   "cell_type": "code",
   "execution_count": 5,
   "id": "926d7945",
   "metadata": {},
   "outputs": [
    {
     "name": "stdout",
     "output_type": "stream",
     "text": [
      "Data: {'q': 1705, 'x': 6, 'y': 2, 'z': 7}\n",
      "Total pembagian: 20.297619047619047\n"
     ]
    }
   ],
   "source": [
    "data = {\"q\": 1705, \"x\": 6, \"y\": 2, \"z\": 7}\n",
    "total = data[\"q\"] / data[\"x\"] / data[\"y\"] / data[\"z\"]\n",
    "\n",
    "print(\"Data:\", data)\n",
    "print(\"Total pembagian:\", total)"
   ]
  },
  {
   "cell_type": "markdown",
   "id": "80e08d9a",
   "metadata": {},
   "source": [
    "## Operator Pembanding"
   ]
  },
  {
   "cell_type": "code",
   "execution_count": 6,
   "id": "d07bd02e",
   "metadata": {},
   "outputs": [
    {
     "name": "stdout",
     "output_type": "stream",
     "text": [
      "data1 == data3: True\n",
      "data1 == data2: False\n"
     ]
    }
   ],
   "source": [
    "data1 = [17, 6, 7]\n",
    "data2 = [20, 3, 6]\n",
    "data3 = [17, 6, 7]\n",
    "\n",
    "print(\"data1 == data3:\", data1 == data3)\n",
    "print(\"data1 == data2:\", data1 == data2)"
   ]
  },
  {
   "cell_type": "markdown",
   "id": "b045589f",
   "metadata": {},
   "source": [
    "## Operator Penugasan"
   ]
  },
  {
   "cell_type": "code",
   "execution_count": 7,
   "id": "5ec67fb7",
   "metadata": {},
   "outputs": [
    {
     "name": "stdout",
     "output_type": "stream",
     "text": [
      "Data: [17, 6, 3]\n",
      "Hasil dari 6 ** 3 adalah: 216\n"
     ]
    }
   ],
   "source": [
    "angka = [17, 6, 3]\n",
    "hasil = angka[1]\n",
    "hasil **= angka[2]   # sama dengan hasil = hasil ** angka[1]\n",
    "\n",
    "print(\"Data:\", angka)\n",
    "print(\"Hasil dari\", angka[1], \"**\", angka[2], \"adalah:\", hasil)"
   ]
  },
  {
   "cell_type": "markdown",
   "id": "c545a80b",
   "metadata": {},
   "source": [
    "## Ketetapan Matematika"
   ]
  },
  {
   "cell_type": "code",
   "execution_count": 8,
   "id": "00fc2793",
   "metadata": {},
   "outputs": [
    {
     "name": "stdout",
     "output_type": "stream",
     "text": [
      "Luas lingkaran adalah: 80384.0\n"
     ]
    }
   ],
   "source": [
    "pi = 3.14 \n",
    "r = int(input(\"Masukkan jari-jari lingkaran: \"))  \n",
    "\n",
    "luas = pi * r ** 2 \n",
    "\n",
    "print(\"Luas lingkaran adalah:\", luas)"
   ]
  },
  {
   "cell_type": "markdown",
   "id": "943d08ff",
   "metadata": {},
   "source": [
    "## Input"
   ]
  },
  {
   "cell_type": "code",
   "execution_count": null,
   "id": "bfc81478",
   "metadata": {},
   "outputs": [
    {
     "name": "stdout",
     "output_type": "stream",
     "text": [
      "Data yang dimasukkan: {'angka1': 12, 'angka2': 2, 'pangkat': 3}\n",
      "Hasil dari (angka1 + angka2) ** pangkat adalah: 2744\n"
     ]
    }
   ],
   "source": [
    "data = {\n",
    "    \"angka1\": int(input(\"Masukkan angka pertama: \")),\n",
    "    \"angka2\": int(input(\"Masukkan angka kedua: \")),\n",
    "    \"pangkat\": int(input(\"Masukkan angka pangkat: \"))\n",
    "}\n",
    "\n",
    "# Operasi menggunakan operator penugasan\n",
    "hasil = data[\"angka1\"]\n",
    "hasil += data[\"angka2\"]\n",
    "hasil **= data[\"pangkat\"]\n",
    "\n",
    "print(\"Data yang dimasukkan:\", data)\n",
    "print(\"Hasil dari (angka1 + angka2) ** pangkat adalah:\", hasil)"
   ]
  }
 ],
 "metadata": {
  "kernelspec": {
   "display_name": "Python 3",
   "language": "python",
   "name": "python3"
  },
  "language_info": {
   "codemirror_mode": {
    "name": "ipython",
    "version": 3
   },
   "file_extension": ".py",
   "mimetype": "text/x-python",
   "name": "python",
   "nbconvert_exporter": "python",
   "pygments_lexer": "ipython3",
   "version": "3.13.5"
  }
 },
 "nbformat": 4,
 "nbformat_minor": 5
}
